{
 "cells": [
  {
   "cell_type": "code",
   "execution_count": 16,
   "metadata": {},
   "outputs": [
    {
     "name": "stdout",
     "output_type": "stream",
     "text": [
      "O número é: 15. Teste: 17\n"
     ]
    }
   ],
   "source": [
    "from python.funcoes.nome import pergunta_numero\n",
    "\n",
    "f = pergunta_numero()\n"
   ]
  },
  {
   "cell_type": "code",
   "execution_count": null,
   "metadata": {},
   "outputs": [],
   "source": [
    "from python.funcoes.consulta_sql_dados import consulta_sql_dados"
   ]
  },
  {
   "cell_type": "code",
   "execution_count": null,
   "metadata": {},
   "outputs": [],
   "source": [
    "from sqlalchemy import create_engine\n",
    "import pandas as pd\n",
    "\n",
    "\n",
    "def consulta_sql_dados(consulta_sql):\n",
    "    usuario = 'joao.ruiz'\n",
    "    senha = 'pSLOCgBgy5tB'\n",
    "    servidor = 'sodreproducao.public.608eda075a62.database.windows.net,3342'\n",
    "    banco_de_dados = 'toxicologico'\n",
    "    conexao_sql = f'mssql+pyodbc://{usuario}:{senha}@{servidor}/{banco_de_dados}?driver=ODBC+Driver+17+for+SQL+Server'\n",
    "    try:\n",
    "        engine = create_engine(conexao_sql)\n",
    "        df = pd.read_sql(consulta_sql, engine)\n",
    "        return df\n",
    "    except Exception as e:\n",
    "        print(f'Ocorreu um erro ao executar a consulta SQL: {e}')\n",
    "        return None\n",
    "    \n",
    "f = consulta_sql_dados(\"select * from powerbi.executivos\")\n",
    "print(f)"
   ]
  },
  {
   "cell_type": "code",
   "execution_count": 20,
   "metadata": {},
   "outputs": [
    {
     "ename": "ModuleNotFoundError",
     "evalue": "No module named 'sql.queries.consulta_teste_executivos'",
     "output_type": "error",
     "traceback": [
      "\u001b[1;31m---------------------------------------------------------------------------\u001b[0m",
      "\u001b[1;31mModuleNotFoundError\u001b[0m                       Traceback (most recent call last)",
      "Cell \u001b[1;32mIn[20], line 1\u001b[0m\n\u001b[1;32m----> 1\u001b[0m \u001b[38;5;28;01mfrom\u001b[39;00m \u001b[38;5;21;01msql\u001b[39;00m\u001b[38;5;21;01m.\u001b[39;00m\u001b[38;5;21;01mqueries\u001b[39;00m\u001b[38;5;21;01m.\u001b[39;00m\u001b[38;5;21;01mconsulta_teste_executivos\u001b[39;00m \u001b[38;5;28;01mimport\u001b[39;00m consulta_teste_executivos \n",
      "\u001b[1;31mModuleNotFoundError\u001b[0m: No module named 'sql.queries.consulta_teste_executivos'"
     ]
    }
   ],
   "source": [
    "from sql.queries.consulta_teste_executivos import consulta_teste_executivos "
   ]
  }
 ],
 "metadata": {
  "kernelspec": {
   "display_name": "Python 3",
   "language": "python",
   "name": "python3"
  },
  "language_info": {
   "codemirror_mode": {
    "name": "ipython",
    "version": 3
   },
   "file_extension": ".py",
   "mimetype": "text/x-python",
   "name": "python",
   "nbconvert_exporter": "python",
   "pygments_lexer": "ipython3",
   "version": "3.12.1"
  }
 },
 "nbformat": 4,
 "nbformat_minor": 2
}
